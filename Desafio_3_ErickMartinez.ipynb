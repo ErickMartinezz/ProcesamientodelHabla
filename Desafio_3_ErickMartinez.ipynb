{
  "cells": [
    {
      "cell_type": "markdown",
      "metadata": {
        "id": "view-in-github",
        "colab_type": "text"
      },
      "source": [
        "<a href=\"https://colab.research.google.com/github/ErickMartinezz/ProcesamientodelHabla/blob/main/Desafio_3_ErickMartinez.ipynb\" target=\"_parent\"><img src=\"https://colab.research.google.com/assets/colab-badge.svg\" alt=\"Open In Colab\"/></a>"
      ]
    },
    {
      "cell_type": "markdown",
      "metadata": {
        "id": "zq6j8LsYq1Dr"
      },
      "source": [
        "### Vectorización de texto y modelo de clasificación Naïve Bayes con el dataset 20 newsgroups"
      ]
    },
    {
      "cell_type": "code",
      "execution_count": 1,
      "metadata": {
        "id": "l7cXR6CI30ry"
      },
      "outputs": [],
      "source": [
        "from sklearn.feature_extraction.text import CountVectorizer, TfidfVectorizer\n",
        "from sklearn.metrics.pairwise import cosine_similarity\n",
        "from sklearn.naive_bayes import MultinomialNB, ComplementNB\n",
        "from sklearn.metrics import f1_score\n",
        "\n",
        "# 20newsgroups por ser un dataset clásico de NLP ya viene incluido y formateado\n",
        "# en sklearn\n",
        "from sklearn.datasets import fetch_20newsgroups\n",
        "import numpy as np"
      ]
    },
    {
      "cell_type": "markdown",
      "metadata": {
        "id": "yD-pVDWV_rQc"
      },
      "source": [
        "## Carga de datos"
      ]
    },
    {
      "cell_type": "code",
      "execution_count": 2,
      "metadata": {
        "id": "Ech9qJaUo9vK"
      },
      "outputs": [],
      "source": [
        "# cargamos los datos (ya separados de forma predeterminada en train y test)\n",
        "newsgroups_train = fetch_20newsgroups(subset='train', remove=('headers', 'footers', 'quotes'))\n",
        "newsgroups_test = fetch_20newsgroups(subset='test', remove=('headers', 'footers', 'quotes'))"
      ]
    },
    {
      "cell_type": "markdown",
      "metadata": {
        "id": "UxjSI7su_uWI"
      },
      "source": [
        "## Vectorización"
      ]
    },
    {
      "cell_type": "code",
      "execution_count": 3,
      "metadata": {
        "id": "-94VP0QYCzDn"
      },
      "outputs": [],
      "source": [
        "# instanciamos un vectorizador\n",
        "# ver diferentes parámetros de instanciación en la documentación de sklearn\n",
        "tfidfvect = TfidfVectorizer()"
      ]
    },
    {
      "cell_type": "code",
      "execution_count": 4,
      "metadata": {
        "colab": {
          "base_uri": "https://localhost:8080/",
          "height": 70
        },
        "id": "ftPlyanuak8n",
        "outputId": "05ee9754-f7e5-4bc2-848d-7f89c7ba5941"
      },
      "outputs": [
        {
          "output_type": "execute_result",
          "data": {
            "text/plain": [
              "'I was wondering if anyone out there could enlighten me on this car I saw\\nthe other day. It was a 2-door sports car, looked to be from the late 60s/\\nearly 70s. It was called a Bricklin. The doors were really small. In addition,\\nthe front bumper was separate from the rest of the body. This is \\nall I know. If anyone can tellme a model name, engine specs, years\\nof production, where this car is made, history, or whatever info you\\nhave on this funky looking car, please e-mail.'"
            ],
            "application/vnd.google.colaboratory.intrinsic+json": {
              "type": "string"
            }
          },
          "metadata": {},
          "execution_count": 4
        }
      ],
      "source": [
        "# en el atributo `data` accedemos al texto\n",
        "newsgroups_train.data[0]"
      ]
    },
    {
      "cell_type": "code",
      "execution_count": 5,
      "metadata": {
        "id": "1zxcXV6aC_oL"
      },
      "outputs": [],
      "source": [
        "# con la interfaz habitual de sklearn podemos fitear el vectorizador\n",
        "# (obtener el vocabulario y calcular el vector IDF)\n",
        "# y transformar directamente los datos\n",
        "X_train = tfidfvect.fit_transform(newsgroups_train.data)\n",
        "# `X_train` la podemos denominar como la matriz documento-término"
      ]
    },
    {
      "cell_type": "code",
      "execution_count": 6,
      "metadata": {
        "colab": {
          "base_uri": "https://localhost:8080/"
        },
        "id": "4Sv7TXbda41-",
        "outputId": "3dae94af-be5f-4bbb-8996-f9a60715dbf3"
      },
      "outputs": [
        {
          "output_type": "stream",
          "name": "stdout",
          "text": [
            "<class 'scipy.sparse._csr.csr_matrix'>\n",
            "shape: (11314, 101631)\n",
            "cantidad de documentos: 11314\n",
            "tamaño del vocabulario (dimensionalidad de los vectores): 101631\n"
          ]
        }
      ],
      "source": [
        "# recordar que las vectorizaciones por conteos son esparsas\n",
        "# por ello sklearn convenientemente devuelve los vectores de documentos\n",
        "# como matrices esparsas\n",
        "print(type(X_train))\n",
        "print(f'shape: {X_train.shape}')\n",
        "print(f'cantidad de documentos: {X_train.shape[0]}')\n",
        "print(f'tamaño del vocabulario (dimensionalidad de los vectores): {X_train.shape[1]}')"
      ]
    },
    {
      "cell_type": "code",
      "execution_count": 7,
      "metadata": {
        "colab": {
          "base_uri": "https://localhost:8080/"
        },
        "id": "dgydNTZ2pAgR",
        "outputId": "1a675dc8-6d15-4c61-81df-205f72794ac0"
      },
      "outputs": [
        {
          "output_type": "execute_result",
          "data": {
            "text/plain": [
              "25775"
            ]
          },
          "metadata": {},
          "execution_count": 7
        }
      ],
      "source": [
        "# una vez ajustado el vectorizador, podemos acceder a atributos como el vocabulario\n",
        "# aprendido. Es un diccionario que va de términos a índices.\n",
        "# El índice es la posición en el vector de documento.\n",
        "tfidfvect.vocabulary_['car']"
      ]
    },
    {
      "cell_type": "code",
      "execution_count": 8,
      "metadata": {
        "id": "xnTSZuvyrTcP"
      },
      "outputs": [],
      "source": [
        "# es muy útil tener el diccionario opuesto que va de índices a términos\n",
        "idx2word = {v: k for k,v in tfidfvect.vocabulary_.items()}"
      ]
    },
    {
      "cell_type": "code",
      "execution_count": 9,
      "metadata": {
        "colab": {
          "base_uri": "https://localhost:8080/"
        },
        "id": "swa-AgWrMSHM",
        "outputId": "67386402-ac94-4ee1-a197-c75457369698"
      },
      "outputs": [
        {
          "output_type": "execute_result",
          "data": {
            "text/plain": [
              "array([ 7,  4,  4,  1, 14, 16, 13,  3,  2,  4])"
            ]
          },
          "metadata": {},
          "execution_count": 9
        }
      ],
      "source": [
        "# en `y_train` guardamos los targets que son enteros\n",
        "y_train = newsgroups_train.target\n",
        "y_train[:10]"
      ]
    },
    {
      "cell_type": "code",
      "execution_count": 10,
      "metadata": {
        "colab": {
          "base_uri": "https://localhost:8080/"
        },
        "id": "je5kxvQMDLvf",
        "outputId": "232bfc5b-d654-433b-d063-2ebee68f8fac"
      },
      "outputs": [
        {
          "output_type": "stream",
          "name": "stdout",
          "text": [
            "clases [ 0  1  2  3  4  5  6  7  8  9 10 11 12 13 14 15 16 17 18 19]\n"
          ]
        },
        {
          "output_type": "execute_result",
          "data": {
            "text/plain": [
              "['alt.atheism',\n",
              " 'comp.graphics',\n",
              " 'comp.os.ms-windows.misc',\n",
              " 'comp.sys.ibm.pc.hardware',\n",
              " 'comp.sys.mac.hardware',\n",
              " 'comp.windows.x',\n",
              " 'misc.forsale',\n",
              " 'rec.autos',\n",
              " 'rec.motorcycles',\n",
              " 'rec.sport.baseball',\n",
              " 'rec.sport.hockey',\n",
              " 'sci.crypt',\n",
              " 'sci.electronics',\n",
              " 'sci.med',\n",
              " 'sci.space',\n",
              " 'soc.religion.christian',\n",
              " 'talk.politics.guns',\n",
              " 'talk.politics.mideast',\n",
              " 'talk.politics.misc',\n",
              " 'talk.religion.misc']"
            ]
          },
          "metadata": {},
          "execution_count": 10
        }
      ],
      "source": [
        "# hay 20 clases correspondientes a los 20 grupos de noticias\n",
        "print(f'clases {np.unique(newsgroups_test.target)}')\n",
        "newsgroups_test.target_names"
      ]
    },
    {
      "cell_type": "markdown",
      "metadata": {
        "id": "SXCICFSd_y90"
      },
      "source": [
        "## Similaridad de documentos"
      ]
    },
    {
      "cell_type": "code",
      "execution_count": 11,
      "metadata": {
        "colab": {
          "base_uri": "https://localhost:8080/"
        },
        "id": "_pki_olShnyE",
        "outputId": "2f484342-ed21-4b98-df25-dce69a48805d"
      },
      "outputs": [
        {
          "output_type": "stream",
          "name": "stdout",
          "text": [
            "THE WHITE HOUSE\n",
            "\n",
            "                  Office of the Press Secretary\n",
            "                   (Pittsburgh, Pennslyvania)\n",
            "______________________________________________________________\n",
            "For Immediate Release                         April 17, 1993     \n",
            "\n",
            "             \n",
            "                  RADIO ADDRESS TO THE NATION \n",
            "                        BY THE PRESIDENT\n",
            "             \n",
            "                Pittsburgh International Airport\n",
            "                    Pittsburgh, Pennsylvania\n",
            "             \n",
            "             \n",
            "10:06 A.M. EDT\n",
            "             \n",
            "             \n",
            "             THE PRESIDENT:  Good morning.  My voice is coming to\n",
            "you this morning through the facilities of the oldest radio\n",
            "station in America, KDKA in Pittsburgh.  I'm visiting the city to\n",
            "meet personally with citizens here to discuss my plans for jobs,\n",
            "health care and the economy.  But I wanted first to do my weekly\n",
            "broadcast with the American people. \n",
            "             \n",
            "             I'm told this station first broadcast in 1920 when\n",
            "it reported that year's presidential elections.  Over the past\n",
            "seven decades presidents have found ways to keep in touch with\n",
            "the people, from whistle-stop tours to fire-side chats to the bus\n",
            "tour that I adopted, along with Vice President Gore, in last\n",
            "year's campaign.\n",
            "             \n",
            "             Every Saturday morning I take this time to talk with\n",
            "you, my fellow Americans, about the problems on your minds and\n",
            "what I'm doing to try and solve them.  It's my way of reporting\n",
            "to you and of giving you a way to hold me accountable.\n",
            "             \n",
            "             You sent me to Washington to get our government and\n",
            "economy moving after years of paralysis and policy and a bad\n",
            "experiment with trickle-down economics.  You know how important\n",
            "it is for us to make bold, comprehensive changes in the way we do\n",
            "business.  \n",
            "             \n",
            "             We live in a competitive global economy.  Nations\n",
            "rise and fall on the skills of their workers, the competitiveness\n",
            "of their companies, the imagination of their industries, and the\n",
            "cooperative experience and spirit that exists between business,\n",
            "labor and government.  Although many of the economies of the\n",
            "industrialized world are now suffering from slow growth, they've\n",
            "made many of the smart investments and the tough choices which\n",
            "our government has for too long ignored.  That's why many of them\n",
            "have been moving ahead and too many of our people have been\n",
            "falling behind.\n",
            "             \n",
            "             We have an economy today that even when it grows is\n",
            "not producing new jobs.  We've increased the debt of our nation\n",
            "by four times over the last 12 years, and we don't have much to\n",
            "show for it.  We know that wages of most working people have\n",
            "stopped rising, that most people are working longer work weeks\n",
            "and that too many families can no longer afford the escalating\n",
            "cost of health care.\n",
            "             \n",
            "             But we also know that, given the right tools, the\n",
            "right incentives and the right encouragement, our workers and\n",
            "businesses can make the kinds of products and profits our economy\n",
            "needs to expand opportunity and to make our communities better\n",
            "places to live.\n",
            "             \n",
            "             In many critical products today Americans are the\n",
            "low cost, high quality producers.  Our task is to make sure that\n",
            "we create more of those kinds of jobs.\n",
            "             \n",
            "             Just two months ago I gave Congress my plan for\n",
            "long-term jobs and economic growth.  It changes the old\n",
            "priorities in Washington and puts our emphasis where it needs to\n",
            "be -- on people's real needs, on increasing investments and jobs\n",
            "and education, on cutting the federal deficit, on stopping the\n",
            "waste which pays no dividends, and redirecting our precious\n",
            "resources toward investment that creates jobs now and lays the\n",
            "groundwork for robust economic growth in the future.\n",
            "             \n",
            "             These new directions passed the Congress in record\n",
            "time and created a new sense of hope and opportunity in our\n",
            "country.  Then the jobs plan I presented to Congress, which would\n",
            "create hundreds of thousands of jobs, most of them in the private\n",
            "sector in 1993 and 1994, passed the House of Representatives.  It\n",
            "now has the support of a majority of the United States Senate. \n",
            "But it's been held up by a filibuster of a minority in the\n",
            "Senate, just 43 senators.  They blocked a vote that they know\n",
            "would result in the passage of our bill and the creation of jobs.\n",
            "             \n",
            "             The issue isn't politics; the issue is people. \n",
            "Millions of Americans are waiting for this legislation and\n",
            "counting on it, counting on us in Washington.  But the jobs bill\n",
            "has been grounded by gridlock.  \n",
            "             \n",
            "             I know the American people are tired of business as\n",
            "usual and politics as usual.  I know they don't want us to spin\n",
            "or wheels.  They want the recovery to get moving.  So I have\n",
            "taken a first step to break this gridlock and gone the extra\n",
            "mile.  Yesterday I offered to cut the size of this plan by 25\n",
            "percent -- from $16 billion to $12 billion.  \n",
            "             \n",
            "             It's not what I'd hoped for.  With 16 million\n",
            "Americans looking for full-time work, I simply can't let the bill\n",
            "languish when I know that even a compromise bill will mean\n",
            "hundreds of thousands of jobs for our people.  The mandate is to\n",
            "act to achieve change and move the country forward.  By taking\n",
            "this initiative in the face of an unrelenting Senate talkathon, I\n",
            "think we can respond to your mandate and achieve a significant\n",
            "portion of our original goals.\n",
            "             \n",
            "             First, we want to keep the programs as much as\n",
            "possible that are needed to generate jobs and meet human needs,\n",
            "including highway and road construction, summer jobs for young\n",
            "people, immunization for children, construction of waste water\n",
            "sites, and aid to small businesses.  We also want to keep funding\n",
            "for extended unemployment compensation benefits, for people who\n",
            "have been unemployed for a long time because the economy isn't\n",
            "creating jobs.\n",
            "             \n",
            "             Second, I've recommended that all the other programs\n",
            "in the bill be cut across-the-board by a little more than 40\n",
            "percent.\n",
            "             \n",
            "             And third, I've recommended a new element in this\n",
            "program to help us immediately start our attempt to fight against\n",
            "crime by providing $200 million for cities and towns to rehire\n",
            "police officers who lost their jobs during the recession and put\n",
            "them back to work protecting our people.  I'm also going to fight\n",
            "for a tough crime bill because the people of this country need it\n",
            "and deserve it.\n",
            "             \n",
            "             Now, the people who are filibustering this bill --\n",
            "the Republican senators -- say they won't vote for it because it\n",
            "increases deficit spending, because there's extra spending this\n",
            "year that hasn't already been approved.  That sounds reasonable,\n",
            "doesn't it?  Here's what they don't say.  This program is more\n",
            "than paid for by budget cuts over my five-year budget, and this\n",
            "budget is well within the spending limits already approved by the\n",
            "Congress this year.\n",
            "             \n",
            "             It's amazing to me that many of these same senators\n",
            "who are filibustering the bill voted during the previous\n",
            "administration for billions of dollars of the same kind of\n",
            "emergency spending, and much of it was not designed to put the\n",
            "American people to work.  \n",
            "             \n",
            "             This is not about deficit spending.  We have offered\n",
            "a plan to cut the deficit.  This is about where your priorities\n",
            "are -- on people or on politics.  \n",
            "             \n",
            "             Keep in mind that our jobs bill is paid for dollar\n",
            "for dollar.  It is paid for by budget cuts.  And it's the\n",
            "soundest investment we can now make for ourselves and our\n",
            "children.  I urge all Americans to take another look at this jobs\n",
            "and investment program; to consider again the benefits for all of\n",
            "us when we've helped make more American partners working to\n",
            "ensure the future of our nation and the strength of our economy.\n",
            "             \n",
            "             You know, if every American who wanted a job had\n",
            "one, we wouldn't have a lot of the other problems we have in this\n",
            "country today.  This bill is not a miracle, it's a modest first\n",
            "step to try to set off a job creation explosion in this country\n",
            "again.  But it's a step we ought to take.  And it is fully paid\n",
            "for over the life of our budget.\n",
            "             \n",
            "             Tell your lawmakers what you think.  Tell them how\n",
            "important the bill is.  If it passes, we'll all be winners.\n",
            "             \n",
            "             Good morning, and thank you for listening.\n"
          ]
        }
      ],
      "source": [
        "# Veamos similaridad de documentos. Tomemos algún documento\n",
        "idx = 4811\n",
        "print(newsgroups_train.data[idx])"
      ]
    },
    {
      "cell_type": "code",
      "execution_count": 12,
      "metadata": {
        "id": "Ssa9bqJ-hA_v"
      },
      "outputs": [],
      "source": [
        "# midamos la similaridad coseno con todos los documentos de train\n",
        "cossim = cosine_similarity(X_train[idx], X_train)[0]"
      ]
    },
    {
      "cell_type": "code",
      "source": [
        "cossim"
      ],
      "metadata": {
        "id": "qQWdijV_-ClO",
        "outputId": "4611dda3-4962-43d3-f39e-52ec26417332",
        "colab": {
          "base_uri": "https://localhost:8080/"
        }
      },
      "execution_count": 13,
      "outputs": [
        {
          "output_type": "execute_result",
          "data": {
            "text/plain": [
              "array([0.1382319 , 0.1067036 , 0.23029327, ..., 0.12320753, 0.08765353,\n",
              "       0.04415046])"
            ]
          },
          "metadata": {},
          "execution_count": 13
        }
      ]
    },
    {
      "cell_type": "code",
      "execution_count": 14,
      "metadata": {
        "colab": {
          "base_uri": "https://localhost:8080/"
        },
        "id": "p_mDA7p3AzcQ",
        "outputId": "5569a609-126f-4665-ab46-e0e8f4517d51"
      },
      "outputs": [
        {
          "output_type": "execute_result",
          "data": {
            "text/plain": [
              "array([1.        , 0.70930477, 0.67474953, ..., 0.        , 0.        ,\n",
              "       0.        ])"
            ]
          },
          "metadata": {},
          "execution_count": 14
        }
      ],
      "source": [
        "# podemos ver los valores de similaridad ordenados de mayor a menos\n",
        "np.sort(cossim)[::-1]"
      ]
    },
    {
      "cell_type": "code",
      "execution_count": 15,
      "metadata": {
        "colab": {
          "base_uri": "https://localhost:8080/"
        },
        "id": "0OIhDA1jAryX",
        "outputId": "01c959ea-92a1-4ea1-d6e4-32a180ead6ab"
      },
      "outputs": [
        {
          "output_type": "execute_result",
          "data": {
            "text/plain": [
              "array([4811, 6635, 4253, ..., 9019, 9016, 8748])"
            ]
          },
          "metadata": {},
          "execution_count": 15
        }
      ],
      "source": [
        "# y a qué documentos corresponden\n",
        "np.argsort(cossim)[::-1]"
      ]
    },
    {
      "cell_type": "code",
      "execution_count": 16,
      "metadata": {
        "id": "hP7qLS4ZBLps"
      },
      "outputs": [],
      "source": [
        "# los 5 documentos más similares:\n",
        "mostsim = np.argsort(cossim)[::-1][1:6]"
      ]
    },
    {
      "cell_type": "code",
      "execution_count": 17,
      "metadata": {
        "colab": {
          "base_uri": "https://localhost:8080/",
          "height": 35
        },
        "id": "QdJLHPJACvaj",
        "outputId": "1ce8e9e8-29c0-41ea-bea1-a7a9f70d6b16"
      },
      "outputs": [
        {
          "output_type": "execute_result",
          "data": {
            "text/plain": [
              "'talk.politics.misc'"
            ],
            "application/vnd.google.colaboratory.intrinsic+json": {
              "type": "string"
            }
          },
          "metadata": {},
          "execution_count": 17
        }
      ],
      "source": [
        "# el documento original pertenece a la clase:\n",
        "newsgroups_train.target_names[y_train[idx]]"
      ]
    },
    {
      "cell_type": "code",
      "execution_count": 18,
      "metadata": {
        "colab": {
          "base_uri": "https://localhost:8080/"
        },
        "id": "RWy_73epCbFG",
        "outputId": "0732c212-c05b-422c-bf97-e039b71ea899"
      },
      "outputs": [
        {
          "output_type": "stream",
          "name": "stdout",
          "text": [
            "talk.politics.misc\n",
            "talk.politics.misc\n",
            "talk.politics.misc\n",
            "talk.politics.misc\n",
            "talk.politics.misc\n"
          ]
        }
      ],
      "source": [
        "# y los 5 más similares son de las clases:\n",
        "for i in mostsim:\n",
        "  print(newsgroups_train.target_names[y_train[i]])"
      ]
    },
    {
      "cell_type": "markdown",
      "metadata": {
        "id": "zRoNnKwhBqzq"
      },
      "source": [
        "### Modelo de clasificación Naïve Bayes"
      ]
    },
    {
      "cell_type": "code",
      "execution_count": 19,
      "metadata": {
        "colab": {
          "base_uri": "https://localhost:8080/",
          "height": 80
        },
        "id": "TPM0thDaLk0R",
        "outputId": "6dd57b07-51be-4131-bc5f-64053743e56d"
      },
      "outputs": [
        {
          "output_type": "execute_result",
          "data": {
            "text/plain": [
              "MultinomialNB()"
            ],
            "text/html": [
              "<style>#sk-container-id-1 {\n",
              "  /* Definition of color scheme common for light and dark mode */\n",
              "  --sklearn-color-text: #000;\n",
              "  --sklearn-color-text-muted: #666;\n",
              "  --sklearn-color-line: gray;\n",
              "  /* Definition of color scheme for unfitted estimators */\n",
              "  --sklearn-color-unfitted-level-0: #fff5e6;\n",
              "  --sklearn-color-unfitted-level-1: #f6e4d2;\n",
              "  --sklearn-color-unfitted-level-2: #ffe0b3;\n",
              "  --sklearn-color-unfitted-level-3: chocolate;\n",
              "  /* Definition of color scheme for fitted estimators */\n",
              "  --sklearn-color-fitted-level-0: #f0f8ff;\n",
              "  --sklearn-color-fitted-level-1: #d4ebff;\n",
              "  --sklearn-color-fitted-level-2: #b3dbfd;\n",
              "  --sklearn-color-fitted-level-3: cornflowerblue;\n",
              "\n",
              "  /* Specific color for light theme */\n",
              "  --sklearn-color-text-on-default-background: var(--sg-text-color, var(--theme-code-foreground, var(--jp-content-font-color1, black)));\n",
              "  --sklearn-color-background: var(--sg-background-color, var(--theme-background, var(--jp-layout-color0, white)));\n",
              "  --sklearn-color-border-box: var(--sg-text-color, var(--theme-code-foreground, var(--jp-content-font-color1, black)));\n",
              "  --sklearn-color-icon: #696969;\n",
              "\n",
              "  @media (prefers-color-scheme: dark) {\n",
              "    /* Redefinition of color scheme for dark theme */\n",
              "    --sklearn-color-text-on-default-background: var(--sg-text-color, var(--theme-code-foreground, var(--jp-content-font-color1, white)));\n",
              "    --sklearn-color-background: var(--sg-background-color, var(--theme-background, var(--jp-layout-color0, #111)));\n",
              "    --sklearn-color-border-box: var(--sg-text-color, var(--theme-code-foreground, var(--jp-content-font-color1, white)));\n",
              "    --sklearn-color-icon: #878787;\n",
              "  }\n",
              "}\n",
              "\n",
              "#sk-container-id-1 {\n",
              "  color: var(--sklearn-color-text);\n",
              "}\n",
              "\n",
              "#sk-container-id-1 pre {\n",
              "  padding: 0;\n",
              "}\n",
              "\n",
              "#sk-container-id-1 input.sk-hidden--visually {\n",
              "  border: 0;\n",
              "  clip: rect(1px 1px 1px 1px);\n",
              "  clip: rect(1px, 1px, 1px, 1px);\n",
              "  height: 1px;\n",
              "  margin: -1px;\n",
              "  overflow: hidden;\n",
              "  padding: 0;\n",
              "  position: absolute;\n",
              "  width: 1px;\n",
              "}\n",
              "\n",
              "#sk-container-id-1 div.sk-dashed-wrapped {\n",
              "  border: 1px dashed var(--sklearn-color-line);\n",
              "  margin: 0 0.4em 0.5em 0.4em;\n",
              "  box-sizing: border-box;\n",
              "  padding-bottom: 0.4em;\n",
              "  background-color: var(--sklearn-color-background);\n",
              "}\n",
              "\n",
              "#sk-container-id-1 div.sk-container {\n",
              "  /* jupyter's `normalize.less` sets `[hidden] { display: none; }`\n",
              "     but bootstrap.min.css set `[hidden] { display: none !important; }`\n",
              "     so we also need the `!important` here to be able to override the\n",
              "     default hidden behavior on the sphinx rendered scikit-learn.org.\n",
              "     See: https://github.com/scikit-learn/scikit-learn/issues/21755 */\n",
              "  display: inline-block !important;\n",
              "  position: relative;\n",
              "}\n",
              "\n",
              "#sk-container-id-1 div.sk-text-repr-fallback {\n",
              "  display: none;\n",
              "}\n",
              "\n",
              "div.sk-parallel-item,\n",
              "div.sk-serial,\n",
              "div.sk-item {\n",
              "  /* draw centered vertical line to link estimators */\n",
              "  background-image: linear-gradient(var(--sklearn-color-text-on-default-background), var(--sklearn-color-text-on-default-background));\n",
              "  background-size: 2px 100%;\n",
              "  background-repeat: no-repeat;\n",
              "  background-position: center center;\n",
              "}\n",
              "\n",
              "/* Parallel-specific style estimator block */\n",
              "\n",
              "#sk-container-id-1 div.sk-parallel-item::after {\n",
              "  content: \"\";\n",
              "  width: 100%;\n",
              "  border-bottom: 2px solid var(--sklearn-color-text-on-default-background);\n",
              "  flex-grow: 1;\n",
              "}\n",
              "\n",
              "#sk-container-id-1 div.sk-parallel {\n",
              "  display: flex;\n",
              "  align-items: stretch;\n",
              "  justify-content: center;\n",
              "  background-color: var(--sklearn-color-background);\n",
              "  position: relative;\n",
              "}\n",
              "\n",
              "#sk-container-id-1 div.sk-parallel-item {\n",
              "  display: flex;\n",
              "  flex-direction: column;\n",
              "}\n",
              "\n",
              "#sk-container-id-1 div.sk-parallel-item:first-child::after {\n",
              "  align-self: flex-end;\n",
              "  width: 50%;\n",
              "}\n",
              "\n",
              "#sk-container-id-1 div.sk-parallel-item:last-child::after {\n",
              "  align-self: flex-start;\n",
              "  width: 50%;\n",
              "}\n",
              "\n",
              "#sk-container-id-1 div.sk-parallel-item:only-child::after {\n",
              "  width: 0;\n",
              "}\n",
              "\n",
              "/* Serial-specific style estimator block */\n",
              "\n",
              "#sk-container-id-1 div.sk-serial {\n",
              "  display: flex;\n",
              "  flex-direction: column;\n",
              "  align-items: center;\n",
              "  background-color: var(--sklearn-color-background);\n",
              "  padding-right: 1em;\n",
              "  padding-left: 1em;\n",
              "}\n",
              "\n",
              "\n",
              "/* Toggleable style: style used for estimator/Pipeline/ColumnTransformer box that is\n",
              "clickable and can be expanded/collapsed.\n",
              "- Pipeline and ColumnTransformer use this feature and define the default style\n",
              "- Estimators will overwrite some part of the style using the `sk-estimator` class\n",
              "*/\n",
              "\n",
              "/* Pipeline and ColumnTransformer style (default) */\n",
              "\n",
              "#sk-container-id-1 div.sk-toggleable {\n",
              "  /* Default theme specific background. It is overwritten whether we have a\n",
              "  specific estimator or a Pipeline/ColumnTransformer */\n",
              "  background-color: var(--sklearn-color-background);\n",
              "}\n",
              "\n",
              "/* Toggleable label */\n",
              "#sk-container-id-1 label.sk-toggleable__label {\n",
              "  cursor: pointer;\n",
              "  display: flex;\n",
              "  width: 100%;\n",
              "  margin-bottom: 0;\n",
              "  padding: 0.5em;\n",
              "  box-sizing: border-box;\n",
              "  text-align: center;\n",
              "  align-items: start;\n",
              "  justify-content: space-between;\n",
              "  gap: 0.5em;\n",
              "}\n",
              "\n",
              "#sk-container-id-1 label.sk-toggleable__label .caption {\n",
              "  font-size: 0.6rem;\n",
              "  font-weight: lighter;\n",
              "  color: var(--sklearn-color-text-muted);\n",
              "}\n",
              "\n",
              "#sk-container-id-1 label.sk-toggleable__label-arrow:before {\n",
              "  /* Arrow on the left of the label */\n",
              "  content: \"▸\";\n",
              "  float: left;\n",
              "  margin-right: 0.25em;\n",
              "  color: var(--sklearn-color-icon);\n",
              "}\n",
              "\n",
              "#sk-container-id-1 label.sk-toggleable__label-arrow:hover:before {\n",
              "  color: var(--sklearn-color-text);\n",
              "}\n",
              "\n",
              "/* Toggleable content - dropdown */\n",
              "\n",
              "#sk-container-id-1 div.sk-toggleable__content {\n",
              "  max-height: 0;\n",
              "  max-width: 0;\n",
              "  overflow: hidden;\n",
              "  text-align: left;\n",
              "  /* unfitted */\n",
              "  background-color: var(--sklearn-color-unfitted-level-0);\n",
              "}\n",
              "\n",
              "#sk-container-id-1 div.sk-toggleable__content.fitted {\n",
              "  /* fitted */\n",
              "  background-color: var(--sklearn-color-fitted-level-0);\n",
              "}\n",
              "\n",
              "#sk-container-id-1 div.sk-toggleable__content pre {\n",
              "  margin: 0.2em;\n",
              "  border-radius: 0.25em;\n",
              "  color: var(--sklearn-color-text);\n",
              "  /* unfitted */\n",
              "  background-color: var(--sklearn-color-unfitted-level-0);\n",
              "}\n",
              "\n",
              "#sk-container-id-1 div.sk-toggleable__content.fitted pre {\n",
              "  /* unfitted */\n",
              "  background-color: var(--sklearn-color-fitted-level-0);\n",
              "}\n",
              "\n",
              "#sk-container-id-1 input.sk-toggleable__control:checked~div.sk-toggleable__content {\n",
              "  /* Expand drop-down */\n",
              "  max-height: 200px;\n",
              "  max-width: 100%;\n",
              "  overflow: auto;\n",
              "}\n",
              "\n",
              "#sk-container-id-1 input.sk-toggleable__control:checked~label.sk-toggleable__label-arrow:before {\n",
              "  content: \"▾\";\n",
              "}\n",
              "\n",
              "/* Pipeline/ColumnTransformer-specific style */\n",
              "\n",
              "#sk-container-id-1 div.sk-label input.sk-toggleable__control:checked~label.sk-toggleable__label {\n",
              "  color: var(--sklearn-color-text);\n",
              "  background-color: var(--sklearn-color-unfitted-level-2);\n",
              "}\n",
              "\n",
              "#sk-container-id-1 div.sk-label.fitted input.sk-toggleable__control:checked~label.sk-toggleable__label {\n",
              "  background-color: var(--sklearn-color-fitted-level-2);\n",
              "}\n",
              "\n",
              "/* Estimator-specific style */\n",
              "\n",
              "/* Colorize estimator box */\n",
              "#sk-container-id-1 div.sk-estimator input.sk-toggleable__control:checked~label.sk-toggleable__label {\n",
              "  /* unfitted */\n",
              "  background-color: var(--sklearn-color-unfitted-level-2);\n",
              "}\n",
              "\n",
              "#sk-container-id-1 div.sk-estimator.fitted input.sk-toggleable__control:checked~label.sk-toggleable__label {\n",
              "  /* fitted */\n",
              "  background-color: var(--sklearn-color-fitted-level-2);\n",
              "}\n",
              "\n",
              "#sk-container-id-1 div.sk-label label.sk-toggleable__label,\n",
              "#sk-container-id-1 div.sk-label label {\n",
              "  /* The background is the default theme color */\n",
              "  color: var(--sklearn-color-text-on-default-background);\n",
              "}\n",
              "\n",
              "/* On hover, darken the color of the background */\n",
              "#sk-container-id-1 div.sk-label:hover label.sk-toggleable__label {\n",
              "  color: var(--sklearn-color-text);\n",
              "  background-color: var(--sklearn-color-unfitted-level-2);\n",
              "}\n",
              "\n",
              "/* Label box, darken color on hover, fitted */\n",
              "#sk-container-id-1 div.sk-label.fitted:hover label.sk-toggleable__label.fitted {\n",
              "  color: var(--sklearn-color-text);\n",
              "  background-color: var(--sklearn-color-fitted-level-2);\n",
              "}\n",
              "\n",
              "/* Estimator label */\n",
              "\n",
              "#sk-container-id-1 div.sk-label label {\n",
              "  font-family: monospace;\n",
              "  font-weight: bold;\n",
              "  display: inline-block;\n",
              "  line-height: 1.2em;\n",
              "}\n",
              "\n",
              "#sk-container-id-1 div.sk-label-container {\n",
              "  text-align: center;\n",
              "}\n",
              "\n",
              "/* Estimator-specific */\n",
              "#sk-container-id-1 div.sk-estimator {\n",
              "  font-family: monospace;\n",
              "  border: 1px dotted var(--sklearn-color-border-box);\n",
              "  border-radius: 0.25em;\n",
              "  box-sizing: border-box;\n",
              "  margin-bottom: 0.5em;\n",
              "  /* unfitted */\n",
              "  background-color: var(--sklearn-color-unfitted-level-0);\n",
              "}\n",
              "\n",
              "#sk-container-id-1 div.sk-estimator.fitted {\n",
              "  /* fitted */\n",
              "  background-color: var(--sklearn-color-fitted-level-0);\n",
              "}\n",
              "\n",
              "/* on hover */\n",
              "#sk-container-id-1 div.sk-estimator:hover {\n",
              "  /* unfitted */\n",
              "  background-color: var(--sklearn-color-unfitted-level-2);\n",
              "}\n",
              "\n",
              "#sk-container-id-1 div.sk-estimator.fitted:hover {\n",
              "  /* fitted */\n",
              "  background-color: var(--sklearn-color-fitted-level-2);\n",
              "}\n",
              "\n",
              "/* Specification for estimator info (e.g. \"i\" and \"?\") */\n",
              "\n",
              "/* Common style for \"i\" and \"?\" */\n",
              "\n",
              ".sk-estimator-doc-link,\n",
              "a:link.sk-estimator-doc-link,\n",
              "a:visited.sk-estimator-doc-link {\n",
              "  float: right;\n",
              "  font-size: smaller;\n",
              "  line-height: 1em;\n",
              "  font-family: monospace;\n",
              "  background-color: var(--sklearn-color-background);\n",
              "  border-radius: 1em;\n",
              "  height: 1em;\n",
              "  width: 1em;\n",
              "  text-decoration: none !important;\n",
              "  margin-left: 0.5em;\n",
              "  text-align: center;\n",
              "  /* unfitted */\n",
              "  border: var(--sklearn-color-unfitted-level-1) 1pt solid;\n",
              "  color: var(--sklearn-color-unfitted-level-1);\n",
              "}\n",
              "\n",
              ".sk-estimator-doc-link.fitted,\n",
              "a:link.sk-estimator-doc-link.fitted,\n",
              "a:visited.sk-estimator-doc-link.fitted {\n",
              "  /* fitted */\n",
              "  border: var(--sklearn-color-fitted-level-1) 1pt solid;\n",
              "  color: var(--sklearn-color-fitted-level-1);\n",
              "}\n",
              "\n",
              "/* On hover */\n",
              "div.sk-estimator:hover .sk-estimator-doc-link:hover,\n",
              ".sk-estimator-doc-link:hover,\n",
              "div.sk-label-container:hover .sk-estimator-doc-link:hover,\n",
              ".sk-estimator-doc-link:hover {\n",
              "  /* unfitted */\n",
              "  background-color: var(--sklearn-color-unfitted-level-3);\n",
              "  color: var(--sklearn-color-background);\n",
              "  text-decoration: none;\n",
              "}\n",
              "\n",
              "div.sk-estimator.fitted:hover .sk-estimator-doc-link.fitted:hover,\n",
              ".sk-estimator-doc-link.fitted:hover,\n",
              "div.sk-label-container:hover .sk-estimator-doc-link.fitted:hover,\n",
              ".sk-estimator-doc-link.fitted:hover {\n",
              "  /* fitted */\n",
              "  background-color: var(--sklearn-color-fitted-level-3);\n",
              "  color: var(--sklearn-color-background);\n",
              "  text-decoration: none;\n",
              "}\n",
              "\n",
              "/* Span, style for the box shown on hovering the info icon */\n",
              ".sk-estimator-doc-link span {\n",
              "  display: none;\n",
              "  z-index: 9999;\n",
              "  position: relative;\n",
              "  font-weight: normal;\n",
              "  right: .2ex;\n",
              "  padding: .5ex;\n",
              "  margin: .5ex;\n",
              "  width: min-content;\n",
              "  min-width: 20ex;\n",
              "  max-width: 50ex;\n",
              "  color: var(--sklearn-color-text);\n",
              "  box-shadow: 2pt 2pt 4pt #999;\n",
              "  /* unfitted */\n",
              "  background: var(--sklearn-color-unfitted-level-0);\n",
              "  border: .5pt solid var(--sklearn-color-unfitted-level-3);\n",
              "}\n",
              "\n",
              ".sk-estimator-doc-link.fitted span {\n",
              "  /* fitted */\n",
              "  background: var(--sklearn-color-fitted-level-0);\n",
              "  border: var(--sklearn-color-fitted-level-3);\n",
              "}\n",
              "\n",
              ".sk-estimator-doc-link:hover span {\n",
              "  display: block;\n",
              "}\n",
              "\n",
              "/* \"?\"-specific style due to the `<a>` HTML tag */\n",
              "\n",
              "#sk-container-id-1 a.estimator_doc_link {\n",
              "  float: right;\n",
              "  font-size: 1rem;\n",
              "  line-height: 1em;\n",
              "  font-family: monospace;\n",
              "  background-color: var(--sklearn-color-background);\n",
              "  border-radius: 1rem;\n",
              "  height: 1rem;\n",
              "  width: 1rem;\n",
              "  text-decoration: none;\n",
              "  /* unfitted */\n",
              "  color: var(--sklearn-color-unfitted-level-1);\n",
              "  border: var(--sklearn-color-unfitted-level-1) 1pt solid;\n",
              "}\n",
              "\n",
              "#sk-container-id-1 a.estimator_doc_link.fitted {\n",
              "  /* fitted */\n",
              "  border: var(--sklearn-color-fitted-level-1) 1pt solid;\n",
              "  color: var(--sklearn-color-fitted-level-1);\n",
              "}\n",
              "\n",
              "/* On hover */\n",
              "#sk-container-id-1 a.estimator_doc_link:hover {\n",
              "  /* unfitted */\n",
              "  background-color: var(--sklearn-color-unfitted-level-3);\n",
              "  color: var(--sklearn-color-background);\n",
              "  text-decoration: none;\n",
              "}\n",
              "\n",
              "#sk-container-id-1 a.estimator_doc_link.fitted:hover {\n",
              "  /* fitted */\n",
              "  background-color: var(--sklearn-color-fitted-level-3);\n",
              "}\n",
              "</style><div id=\"sk-container-id-1\" class=\"sk-top-container\"><div class=\"sk-text-repr-fallback\"><pre>MultinomialNB()</pre><b>In a Jupyter environment, please rerun this cell to show the HTML representation or trust the notebook. <br />On GitHub, the HTML representation is unable to render, please try loading this page with nbviewer.org.</b></div><div class=\"sk-container\" hidden><div class=\"sk-item\"><div class=\"sk-estimator fitted sk-toggleable\"><input class=\"sk-toggleable__control sk-hidden--visually\" id=\"sk-estimator-id-1\" type=\"checkbox\" checked><label for=\"sk-estimator-id-1\" class=\"sk-toggleable__label fitted sk-toggleable__label-arrow\"><div><div>MultinomialNB</div></div><div><a class=\"sk-estimator-doc-link fitted\" rel=\"noreferrer\" target=\"_blank\" href=\"https://scikit-learn.org/1.6/modules/generated/sklearn.naive_bayes.MultinomialNB.html\">?<span>Documentation for MultinomialNB</span></a><span class=\"sk-estimator-doc-link fitted\">i<span>Fitted</span></span></div></label><div class=\"sk-toggleable__content fitted\"><pre>MultinomialNB()</pre></div> </div></div></div></div>"
            ]
          },
          "metadata": {},
          "execution_count": 19
        }
      ],
      "source": [
        "# es muy fácil instanciar un modelo de clasificación Naïve Bayes y entrenarlo con sklearn\n",
        "clf = MultinomialNB()\n",
        "clf.fit(X_train, y_train)"
      ]
    },
    {
      "cell_type": "code",
      "execution_count": 20,
      "metadata": {
        "id": "NrQjzM48Mu4T"
      },
      "outputs": [],
      "source": [
        "# con nuestro vectorizador ya fiteado en train, vectorizamos los textos\n",
        "# del conjunto de test\n",
        "X_test = tfidfvect.transform(newsgroups_test.data)\n",
        "y_test = newsgroups_test.target\n",
        "y_pred =  clf.predict(X_test)"
      ]
    },
    {
      "cell_type": "code",
      "execution_count": 21,
      "metadata": {
        "colab": {
          "base_uri": "https://localhost:8080/"
        },
        "id": "UkGJhetEPdA4",
        "outputId": "d6dcb92a-db7c-40d4-b1ee-3a211edfd0fb"
      },
      "outputs": [
        {
          "output_type": "execute_result",
          "data": {
            "text/plain": [
              "0.5854345727938506"
            ]
          },
          "metadata": {},
          "execution_count": 21
        }
      ],
      "source": [
        "# el F1-score es una metrica adecuada para reportar desempeño de modelos de claificación\n",
        "# es robusta al desbalance de clases. El promediado 'macro' es el promedio de los\n",
        "# F1-score de cada clase. El promedio 'micro' es equivalente a la accuracy que no\n",
        "# es una buena métrica cuando los datasets son desbalanceados\n",
        "f1_score(y_test, y_pred, average='macro')"
      ]
    },
    {
      "cell_type": "markdown",
      "metadata": {
        "id": "McArD4rSDR2K"
      },
      "source": [
        "### Consigna del desafío 2"
      ]
    },
    {
      "cell_type": "markdown",
      "source": [],
      "metadata": {
        "id": "sv8kKKGnqBkf"
      }
    },
    {
      "cell_type": "markdown",
      "metadata": {
        "id": "lJgf6GQIIEH1"
      },
      "source": [
        "**1**. Vectorizar documentos. Tomar 5 documentos al azar y medir similaridad con el resto de los documentos.\n",
        "Estudiar los 5 documentos más similares de cada uno analizar si tiene sentido\n",
        "la similaridad según el contenido del texto y la etiqueta de clasificación.\n",
        "\n"
      ]
    },
    {
      "cell_type": "markdown",
      "source": [
        "Respuesta 1"
      ],
      "metadata": {
        "id": "FL4_2cILEoZA"
      }
    },
    {
      "cell_type": "code",
      "source": [
        "import random\n",
        "import numpy as np\n",
        "import textwrap\n",
        "from sklearn.datasets import fetch_20newsgroups\n",
        "from sklearn.feature_extraction.text import TfidfVectorizer\n",
        "from sklearn.metrics.pairwise import cosine_similarity\n",
        "\n",
        "\n"
      ],
      "metadata": {
        "collapsed": true,
        "id": "zcKIE7IYEMxc"
      },
      "execution_count": 39,
      "outputs": []
    },
    {
      "cell_type": "code",
      "source": [
        "# Cargar datos\n",
        "newsgroups_train = fetch_20newsgroups(subset='train', remove=('headers', 'footers', 'quotes'))\n",
        "X_train_text = newsgroups_train.data\n",
        "y_train = newsgroups_train.target\n",
        "target_names = newsgroups_train.target_names\n",
        "\n",
        "# Vectorizar\n",
        "vectorizer = TfidfVectorizer(stop_words='english', max_df=0.5, min_df=5, ngram_range=(1, 2))\n",
        "X_train = vectorizer.fit_transform(X_train_text)"
      ],
      "metadata": {
        "id": "qhwGBtAqHOLi"
      },
      "execution_count": 40,
      "outputs": []
    },
    {
      "cell_type": "code",
      "source": [
        "# Semilla y selección de documentos\n",
        "random\n",
        "doc_azar = random.sample(range(len(X_train_text)), 5)\n",
        "doc_azar"
      ],
      "metadata": {
        "colab": {
          "base_uri": "https://localhost:8080/"
        },
        "id": "-zLmZNxBHS04",
        "outputId": "f4ea2b9a-c3a6-49ca-ebda-bc87035e0d76"
      },
      "execution_count": 34,
      "outputs": [
        {
          "output_type": "execute_result",
          "data": {
            "text/plain": [
              "[1424, 9674, 6912, 520, 488]"
            ]
          },
          "metadata": {},
          "execution_count": 34
        }
      ]
    },
    {
      "cell_type": "code",
      "source": [
        "# Similaridad de documentos\n",
        "for idx in doc_azar:\n",
        "    print(\"=\" * 100)\n",
        "    print(f\"DOCUMENTO: {idx} | Clase: {target_names[y_train[idx]]}\")\n",
        "    print(\"-\" * 100)\n",
        "    print(textwrap.fill(X_train_text[idx][:500], width=100))\n",
        "\n",
        "    # Similaridad coseno\n",
        "    cossim = cosine_similarity(X_train[idx], X_train)[0]\n",
        "    cossim[idx] = 0  # Excluir el documento original\n",
        "\n",
        "     # Top 5 documentos similares\n",
        "    most_similar = np.argsort(cossim)[::-1][:5]\n",
        "    print(\"\\nDOCUMENTOS MÁS SIMILARES:\")\n",
        "    for sim_idx in most_similar:\n",
        "        sim_score = cossim[sim_idx] * 100\n",
        "        print(\"-\" * 100)\n",
        "        print(f\"Índice: {sim_idx} | Clase: {target_names[y_train[sim_idx]]} | Similitud: {sim_score:.2f}%\")\n",
        "        print(textwrap.fill(X_train_text[sim_idx][:300], width=100))\n",
        "    print(\"=\" * 100 + \"\\n\")"
      ],
      "metadata": {
        "colab": {
          "base_uri": "https://localhost:8080/"
        },
        "collapsed": true,
        "id": "b4xNc97uHgie",
        "outputId": "98d7c1cf-67d2-4da9-cc11-9c5e216a989d"
      },
      "execution_count": 46,
      "outputs": [
        {
          "output_type": "stream",
          "name": "stdout",
          "text": [
            "====================================================================================================\n",
            "DOCUMENTO: 1424 | Clase: rec.sport.hockey\n",
            "----------------------------------------------------------------------------------------------------\n",
            " Hopefully, a miracle (o.k. not quite a miracle, but close!) will occur and Pittsburgh will be\n",
            "elminated prior to the finals.  If they make it again,  they will probably keep the Cup.  If they\n",
            "don't, it's the Hawks' turn!  GO BLACKHAWKS!!  CONGRATS TO JEREMY ROENICK FOR BEING ONLY THE 2ND\n",
            "HAWKS PLAYER TO POST  BACK TO BACK 50 GOAL SEASONS!!\n",
            "\n",
            "DOCUMENTOS MÁS SIMILARES:\n",
            "----------------------------------------------------------------------------------------------------\n",
            "Índice: 8689 | Clase: rec.sport.hockey | Similitud: 38.22%\n",
            "The Hawks win!!  Jermey Roenick scored his 50 th goal and the Hawks put the Leafs in their place,\n",
            "the losers column.  If the Leafs can not even beat the Hawks in a match that had little or no\n",
            "meaning I will hate to see them against the Wings.    Oh btw I laugh at rm, that jerky!!!  GO\n",
            "HAWKS!!!\n",
            "----------------------------------------------------------------------------------------------------\n",
            "Índice: 8313 | Clase: rec.sport.hockey | Similitud: 29.53%\n",
            "                  ^^^^^^^^^^^^^^^^^^^^^^^^     Don't be so sure, the Blues played the Hawks pretty\n",
            "well this season, and won twice at the Stadium. The Blues will give the Hawks a hard time. This\n",
            "series is one of the best first round matchups, could go either way. The Hawks will probably prevail\n",
            "in s\n",
            "----------------------------------------------------------------------------------------------------\n",
            "Índice: 9280 | Clase: rec.sport.hockey | Similitud: 27.70%\n",
            "  I'd have to take Quebec in 6.   Hawks will win, but it will take 5.  Cal in 7.  Boston will beat\n",
            "Quebec in 6.   Pitt in 6. The Bruins arent a pushover. The hawks havent had problems with them  all\n",
            "year. Yep, I agree.  Unless the Hawks can somehow change fate, you're right.    Who knows, though.\n",
            "M\n",
            "----------------------------------------------------------------------------------------------------\n",
            "Índice: 11124 | Clase: rec.sport.hockey | Similitud: 23.89%\n",
            "PATRICK 1st rd: Pens over Isles in 4.         Devils over Caps in 6. 2nd:    Pens over Devils in 7.\n",
            "ADAMS 1st rd: B's over Sabres in 5.         Nords over Habs in 5. 2nd:    B's over Nords in 6.\n",
            "NORRIS 1st:    Hawks over Stars/Blues in 5.         Wings over Leafs in 7. 2nd:    Hawks over Wings\n",
            "in 5.  SMYTHE 1st:    Jets over Canucks\n",
            "----------------------------------------------------------------------------------------------------\n",
            "Índice: 8982 | Clase: rec.sport.hockey | Similitud: 19.91%\n",
            "Well now that the hawks have won the division the road is a little easier for the playoffs. Let\n",
            "toronto and detroit beat the hell out of each other while Chicago sweeps st.louis. That just makes\n",
            "it easier in the second round with all the rest they will get and tor/det getting none. For the\n",
            "conf. cha\n",
            "====================================================================================================\n",
            "\n",
            "====================================================================================================\n",
            "DOCUMENTO: 9674 | Clase: sci.space\n",
            "----------------------------------------------------------------------------------------------------\n",
            " Or have different classes of competetors.. and made the total purse $6billion or $7billion\n",
            "(depending on how many different classes there are, as in auto racing/motocycle racing and such)..\n",
            "\n",
            "DOCUMENTOS MÁS SIMILARES:\n",
            "----------------------------------------------------------------------------------------------------\n",
            "Índice: 8172 | Clase: comp.graphics | Similitud: 25.69%\n",
            " : I'm trying out the C++ graphics package InterViews. Besides the man pages : on the classes, I\n",
            "haven't got any documentation. Is there anything else : around? Furthermore, can anyone send me a\n",
            "(small!) example program : which shows how to use these classes together ? I would be very\n",
            "gratefull...\n",
            "----------------------------------------------------------------------------------------------------\n",
            "Índice: 5009 | Clase: comp.sys.mac.hardware | Similitud: 23.91%\n",
            "\"auto from\n",
            "----------------------------------------------------------------------------------------------------\n",
            "Índice: 760 | Clase: talk.politics.misc | Similitud: 18.60%\n",
            "  In order of your questions, I oppose it, I oppose it, I oppose it and (Huh?  Wha?  Where did\n",
            "_that_ topic come from and what's it got to do with the discussion at hand? :-)  When I was\n",
            "discussing the concept of different criminal laws for crimes against different classes of people\n",
            "(and yes, I do c\n",
            "----------------------------------------------------------------------------------------------------\n",
            "Índice: 1846 | Clase: rec.autos | Similitud: 16.04%\n",
            " My wife rarely carries a purse, so all of her crap ends up in my pockets!\n",
            "----------------------------------------------------------------------------------------------------\n",
            "Índice: 9596 | Clase: comp.os.ms-windows.misc | Similitud: 15.91%\n",
            "    The Microsoft Founation classes (afx) that come with C/C++ 7.0 (and  Visual C++) are very good,\n",
            "they already have a version for NT, it comes with source code, and is very close to the navtive API.\n",
            "It also as some classes to manage data structures...  ...Stefan  --  ------------------------------\n",
            "====================================================================================================\n",
            "\n",
            "====================================================================================================\n",
            "DOCUMENTO: 6912 | Clase: rec.sport.baseball\n",
            "----------------------------------------------------------------------------------------------------\n",
            "I believe that Rusty Staub was also a jewish ball-player Also, Mordaci Brown back in the early 20th\n",
            "century.  He was a pitcher whose nickname was \"3 fingers\" Brown....for obvious reasons....he had 3\n",
            "fingers.\n",
            "\n",
            "DOCUMENTOS MÁS SIMILARES:\n",
            "----------------------------------------------------------------------------------------------------\n",
            "Índice: 7682 | Clase: rec.sport.baseball | Similitud: 70.02%\n",
            ": I believe that Rusty Staub was also a jewish ball-player : Also, Mordaci Brown back in the early\n",
            "20th century.  He was a pitcher whose : nickname was \"3 fingers\" Brown....for obvious reasons....he\n",
            "had 3 fingers.  0 for 2, ma_ind25.  Daniel Patrick Staub is a Catholic school kid from Nawlins,\n",
            "Morde\n",
            "----------------------------------------------------------------------------------------------------\n",
            "Índice: 3587 | Clase: alt.atheism | Similitud: 27.80%\n",
            "   Why should I keep my fingers crossed? I doubt it would do anything. :)\n",
            "----------------------------------------------------------------------------------------------------\n",
            "Índice: 9271 | Clase: talk.politics.misc | Similitud: 16.50%\n",
            "    This statement is just so blatantly disgusting and free of any implicit neural activity that I\n",
            "will almost completely ignore it.     Sigh.  It's so amusing to watch bigots point fingers at what\n",
            "they imagine to be other bigots.  I do believe this person meant \"bean *counting*\".  And are you\n",
            "tryin\n",
            "----------------------------------------------------------------------------------------------------\n",
            "Índice: 9899 | Clase: talk.religion.misc | Similitud: 13.01%\n",
            " [Rest deleted.  Can anybody out in a.p.h help out?]  Find out about \"the night of the brown\n",
            "shirts\".\n",
            "----------------------------------------------------------------------------------------------------\n",
            "Índice: 10093 | Clase: rec.sport.baseball | Similitud: 12.18%\n",
            "Once, on Jeopardy, the category was \"Jewish Sports Heros,\" believe it or not.  The answer was, \"This\n",
            "pitcher had four no-hitters with the Dodgers in the 60s.\"  The contestant said, \"Who is Hank Aaron?\"\n",
            "Alex Trebek said something like, \"I don't think Hank Aaron was a pitcher.\"\n",
            "====================================================================================================\n",
            "\n",
            "====================================================================================================\n",
            "DOCUMENTO: 520 | Clase: sci.electronics\n",
            "----------------------------------------------------------------------------------------------------\n",
            " I used a bunch as weights, when building a model airplane.  Hung them on the stringers, across the\n",
            "stringer, or whatever.  Worked pretty well.\n",
            "\n",
            "DOCUMENTOS MÁS SIMILARES:\n",
            "----------------------------------------------------------------------------------------------------\n",
            "Índice: 6769 | Clase: comp.sys.mac.hardware | Similitud: 27.89%\n",
            "with model toward\n",
            "----------------------------------------------------------------------------------------------------\n",
            "Índice: 804 | Clase: comp.sys.ibm.pc.hardware | Similitud: 21.54%\n",
            "It worked!!! Thank you very much!\n",
            "----------------------------------------------------------------------------------------------------\n",
            "Índice: 4932 | Clase: sci.electronics | Similitud: 13.62%\n",
            "I was looking at the amps diagram for Sony 1090/2090 receivers, and I was amazed to find a\n",
            "difference between the US and Canadian model on the capacitor(s) that hangs off the output to the\n",
            "speakers:                           ------\\/\\/\\----- to speaker (identical both models from amp\n",
            "---------------\n",
            "----------------------------------------------------------------------------------------------------\n",
            "Índice: 2496 | Clase: rec.autos | Similitud: 13.23%\n",
            "Hm... I find this hard to believe.  V16T weights about the same as the Red Head, but it has hell lot\n",
            "more horse power.  Perhaps it's due to pre-production glitches?  Well, to me, it still got the most\n",
            "imposing styling among all the sports cars I have seen.\n",
            "----------------------------------------------------------------------------------------------------\n",
            "Índice: 3951 | Clase: sci.electronics | Similitud: 11.81%\n",
            "{early PA?} # I recall reading of a phonograph which used mechanical amplification. # Compressed air\n",
            "was squirted out of a valve which was controlled by the # pickup.  The result was noisy and\n",
            "distinctly lo-fi, but much louder # than a conventional phonograph.  It tended to wear the disks out\n",
            "# pret\n",
            "====================================================================================================\n",
            "\n",
            "====================================================================================================\n",
            "DOCUMENTO: 488 | Clase: rec.sport.baseball\n",
            "----------------------------------------------------------------------------------------------------\n",
            " Me too! And any Yankee Stadium gifs as well, please.  Thanx in advance,\n",
            "\n",
            "DOCUMENTOS MÁS SIMILARES:\n",
            "----------------------------------------------------------------------------------------------------\n",
            "Índice: 6425 | Clase: comp.graphics | Similitud: 30.75%\n",
            "Hi, can anyone direct me to map type gifs?   I am interesting in cartography and would find these\n",
            "gifs useful.  tia,\n",
            "----------------------------------------------------------------------------------------------------\n",
            "Índice: 10460 | Clase: comp.windows.x | Similitud: 29.58%\n",
            "If a X-window package exists, that runs om PC, DOS (and maybe MS-windows) I would be very happy to\n",
            "hear about it.  Thanx in advance.\n",
            "----------------------------------------------------------------------------------------------------\n",
            "Índice: 10115 | Clase: sci.electronics | Similitud: 27.50%\n",
            "Hi there, Can anyone tell me where it is possible to purchase controls found on most arcade style\n",
            "games.  Many projects I am working on would be greatly augmented if I could implement them.  Thanx\n",
            "in advance.\n",
            "----------------------------------------------------------------------------------------------------\n",
            "Índice: 9604 | Clase: comp.graphics | Similitud: 27.32%\n",
            "Hi ,           I am looking for a polygon fill routine to fill          simple 4 sided polygons .\n",
            "Can some one who has this routine in C help me in          saving my \"REINVENTING\" time.\n",
            "Thanx in advance .....\n",
            "----------------------------------------------------------------------------------------------------\n",
            "Índice: 334 | Clase: rec.sport.baseball | Similitud: 23.97%\n",
            "They  three  more  division.  Jason, I am going to a yankee game wed night at cleveland stadium. I\n",
            "am so   happy.   But Cleveland is a very bad team who lost severalrs. They were an up and   coming\n",
            "team, now they are just a sad excuse for a better average.\n",
            "====================================================================================================\n",
            "\n"
          ]
        }
      ]
    },
    {
      "cell_type": "markdown",
      "metadata": {
        "id": "o3hirpeJeMMa"
      },
      "source": [
        "\n",
        "**2**. Entrenar modelos de clasificación Naïve Bayes para maximizar el desempeño de clasificación\n",
        "(f1-score macro) en el conjunto de datos de test. Considerar cambiar parámteros\n",
        "de instanciación del vectorizador y los modelos y probar modelos de Naïve Bayes Multinomial\n",
        "y ComplementNB."
      ]
    },
    {
      "cell_type": "markdown",
      "source": [
        "Respuesta 2"
      ],
      "metadata": {
        "id": "fgXS4yIJIeIQ"
      }
    },
    {
      "cell_type": "code",
      "source": [
        "# MultinomialNB\n",
        "clf_mnb = MultinomialNB()\n",
        "clf_mnb.fit(X_train, y_train)\n",
        "y_pred_mnb = clf_mnb.predict(X_test)\n",
        "print(\"\\nF1-score macro (MultinomialNB):\", f1_score(y_test, y_pred_mnb, average='macro'))\n"
      ],
      "metadata": {
        "colab": {
          "base_uri": "https://localhost:8080/"
        },
        "id": "auf7lSFZIqYG",
        "outputId": "3ad01631-64b0-447c-e34d-9b34c6499359"
      },
      "execution_count": 52,
      "outputs": [
        {
          "output_type": "stream",
          "name": "stdout",
          "text": [
            "\n",
            "F1-score macro (MultinomialNB): 0.6453501281993387\n"
          ]
        }
      ]
    },
    {
      "cell_type": "code",
      "source": [
        "# ComplementNB\n",
        "clf_cnb = ComplementNB()\n",
        "clf_cnb.fit(X_train, y_train)\n",
        "y_pred_cnb = clf_cnb.predict(X_test)\n",
        "print(\"F1-score macro (ComplementNB):\", f1_score(y_test, y_pred_cnb, average='macro'))"
      ],
      "metadata": {
        "colab": {
          "base_uri": "https://localhost:8080/"
        },
        "id": "JPwjHmdbIvN_",
        "outputId": "8a8e1dbf-2055-4ba0-807d-8117010438be"
      },
      "execution_count": 53,
      "outputs": [
        {
          "output_type": "stream",
          "name": "stdout",
          "text": [
            "F1-score macro (ComplementNB): 0.6881187655621652\n"
          ]
        }
      ]
    },
    {
      "cell_type": "markdown",
      "source": [
        "\n",
        "\n",
        "**3**. Transponer la matriz documento-término. De esa manera se obtiene una matriz\n",
        "término-documento que puede ser interpretada como una colección de vectorización de palabras.\n",
        "Estudiar ahora similaridad entre palabras tomando 5 palabras y estudiando sus 5 más similares. **La elección de palabras no debe ser al azar para evitar la aparición de términos poco interpretables, elegirlas \"manualmente\"**."
      ],
      "metadata": {
        "id": "JS1u_5kle7U8"
      }
    },
    {
      "cell_type": "markdown",
      "source": [
        "Respuesta 3"
      ],
      "metadata": {
        "id": "zOSwWWXUJ59D"
      }
    },
    {
      "cell_type": "code",
      "source": [
        "# Asegurar que el vocabulario sea el correcto\n",
        "X_td = X_train.transpose()\n",
        "idx2word = {v: k for k, v in vectorizer.vocabulary_.items()}\n",
        "\n",
        "# Selección de palabras\n",
        "selected_words = ['technology', 'computer', 'science', 'network', 'algorithm']\n",
        "\n",
        "# Verificar si las palabras seleccionadas están en el vocabulario\n",
        "for word in selected_words:\n",
        "    if word not in vectorizer.vocabulary_:\n",
        "        print(f\"Advertencia: la palabra '{word}' no está en el vocabulario.\")\n",
        "    else:\n",
        "        print(f\"La palabra '{word}' está en el vocabulario.\")\n",
        "\n",
        "# Buscar los índices de las palabras en el vocabulario\n",
        "word_indices = [vectorizer.vocabulary_[w] for w in selected_words if w in vectorizer.vocabulary_]\n",
        "\n",
        "# Calcular similitud\n",
        "for idx in word_indices:\n",
        "    sim = cosine_similarity(X_td[idx], X_td)[0]\n",
        "    top_similar = np.argsort(sim)[::-1][1:6]\n",
        "    print(f\"\\nPalabra: {idx2word[idx]}\")\n",
        "    for i in top_similar:\n",
        "        print(f\" -> {idx2word[i]} (sim: {sim[i]:.3f})\")\n"
      ],
      "metadata": {
        "colab": {
          "base_uri": "https://localhost:8080/"
        },
        "id": "phT8aMyoLUa-",
        "outputId": "577dfdfd-34a2-4fdb-ece8-13cf68b138dd"
      },
      "execution_count": 57,
      "outputs": [
        {
          "output_type": "stream",
          "name": "stdout",
          "text": [
            "La palabra 'technology' está en el vocabulario.\n",
            "La palabra 'computer' está en el vocabulario.\n",
            "La palabra 'science' está en el vocabulario.\n",
            "La palabra 'network' está en el vocabulario.\n",
            "La palabra 'algorithm' está en el vocabulario.\n",
            "\n",
            "Palabra: technology\n",
            " -> use technology (sim: 0.215)\n",
            " -> technology available (sim: 0.207)\n",
            " -> science technology (sim: 0.202)\n",
            " -> new technology (sim: 0.197)\n",
            " -> encryption technology (sim: 0.193)\n",
            "\n",
            "Palabra: computer\n",
            " -> computer science (sim: 0.241)\n",
            " -> computer graphics (sim: 0.217)\n",
            " -> turn computer (sim: 0.168)\n",
            " -> new computer (sim: 0.166)\n",
            " -> use computer (sim: 0.151)\n",
            "\n",
            "Palabra: science\n",
            " -> computer science (sim: 0.372)\n",
            " -> scientific (sim: 0.327)\n",
            " -> science collection (sim: 0.258)\n",
            " -> like science (sim: 0.240)\n",
            " -> behaviorists (sim: 0.240)\n",
            "\n",
            "Palabra: network\n",
            " -> products using (sim: 0.185)\n",
            " -> network card (sim: 0.185)\n",
            " -> novell (sim: 0.173)\n",
            " -> utilizing (sim: 0.171)\n",
            " -> windows workgroups (sim: 0.167)\n",
            "\n",
            "Palabra: algorithm\n",
            " -> encryption algorithm (sim: 0.350)\n",
            " -> secret (sim: 0.288)\n",
            " -> marching (sim: 0.277)\n",
            " -> algorithm secret (sim: 0.257)\n",
            " -> encryption (sim: 0.227)\n"
          ]
        }
      ]
    },
    {
      "cell_type": "markdown",
      "source": [
        "En este tercer punto use las palabras technology, computer, science, network y algorithm.\n",
        "Viendo la comparacion con otras palabras entiendo que tienen buena similitud, excepto la palabra network que seria la mas baja."
      ],
      "metadata": {
        "id": "p1h4RNFtM40h"
      }
    }
  ],
  "metadata": {
    "colab": {
      "provenance": [],
      "include_colab_link": true
    },
    "kernelspec": {
      "display_name": "Python 3",
      "name": "python3"
    },
    "language_info": {
      "name": "python"
    }
  },
  "nbformat": 4,
  "nbformat_minor": 0
}